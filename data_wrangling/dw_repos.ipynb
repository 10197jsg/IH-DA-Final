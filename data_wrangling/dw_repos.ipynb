{
 "cells": [
  {
   "cell_type": "markdown",
   "id": "59038f58",
   "metadata": {},
   "source": [
    "# What is the best correlation between opening times and our maximum occupancy?"
   ]
  },
  {
   "cell_type": "markdown",
   "id": "7e24d77a",
   "metadata": {},
   "source": [
    "# How many shifts per week we should be open to use our full potential?"
   ]
  },
  {
   "cell_type": "code",
   "execution_count": 18,
   "id": "bb9a27ac",
   "metadata": {},
   "outputs": [],
   "source": [
    "import pandas as pd\n",
    "import numpy as np\n",
    "import re\n",
    "\n",
    "import seaborn as sns\n",
    "import matplotlib.pyplot as plt"
   ]
  },
  {
   "cell_type": "code",
   "execution_count": 19,
   "id": "c13182d0",
   "metadata": {},
   "outputs": [],
   "source": [
    "repo23_a = pd.read_csv(\"./data_files/repo23_a.csv\")\n",
    "repo24_a = pd.read_csv(\"./data_files/repo24_a.csv\")\n",
    "repo25_a = pd.read_csv(\"./data_files/repo25_a.csv\")\n",
    "\n",
    "repo_a = pd.concat([repo23_a, repo24_a, repo25_a])\n",
    "\n",
    "repo_a.to_csv('./data_files/repo_a.csv', index=False)"
   ]
  },
  {
   "cell_type": "code",
   "execution_count": 20,
   "id": "bc169595",
   "metadata": {},
   "outputs": [],
   "source": [
    "repo23_b = pd.read_csv(\"./data_files/repo23_b.csv\")\n",
    "repo24_b = pd.read_csv(\"./data_files/repo24_b.csv\")\n",
    "repo25_b = pd.read_csv(\"./data_files/repo25_b.csv\")\n",
    "\n",
    "repo_b = pd.concat([repo23_b, repo24_b, repo25_b])\n",
    "\n",
    "repo_b.to_csv('./data_files/repo_b.csv', index=False)"
   ]
  },
  {
   "cell_type": "code",
   "execution_count": 21,
   "id": "d9f2fb94",
   "metadata": {},
   "outputs": [],
   "source": [
    "repo23_c = pd.read_csv(\"./data_files/repo23_c.csv\")\n",
    "repo24_c = pd.read_csv(\"./data_files/repo24_c.csv\")\n",
    "repo25_c = pd.read_csv(\"./data_files/repo25_c.csv\")\n",
    "\n",
    "repo_c = pd.concat([repo23_c, repo24_c, repo25_c])\n",
    "\n",
    "repo_c.to_csv('./data_files/repo_c.csv', index=False)"
   ]
  }
 ],
 "metadata": {
  "kernelspec": {
   "display_name": "base",
   "language": "python",
   "name": "python3"
  },
  "language_info": {
   "codemirror_mode": {
    "name": "ipython",
    "version": 3
   },
   "file_extension": ".py",
   "mimetype": "text/x-python",
   "name": "python",
   "nbconvert_exporter": "python",
   "pygments_lexer": "ipython3",
   "version": "3.12.7"
  }
 },
 "nbformat": 4,
 "nbformat_minor": 5
}
